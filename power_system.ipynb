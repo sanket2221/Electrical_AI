{
  "nbformat": 4,
  "nbformat_minor": 0,
  "metadata": {
    "colab": {
      "name": "power_system.ipynb",
      "provenance": [],
      "authorship_tag": "ABX9TyOUjyfi9K/oIgcCcjQtTXH4",
      "include_colab_link": true
    },
    "kernelspec": {
      "name": "python3",
      "display_name": "Python 3"
    }
  },
  "cells": [
    {
      "cell_type": "markdown",
      "metadata": {
        "id": "view-in-github",
        "colab_type": "text"
      },
      "source": [
        "<a href=\"https://colab.research.google.com/github/sanket2221/Electrical_AI/blob/master/power_system.ipynb\" target=\"_parent\"><img src=\"https://colab.research.google.com/assets/colab-badge.svg\" alt=\"Open In Colab\"/></a>"
      ]
    },
    {
      "cell_type": "code",
      "metadata": {
        "id": "6X3xSVprDDMO",
        "colab_type": "code",
        "colab": {}
      },
      "source": [
        "#!pip install pypsa"
      ],
      "execution_count": null,
      "outputs": []
    },
    {
      "cell_type": "code",
      "metadata": {
        "id": "N81vYKYc_sCZ",
        "colab_type": "code",
        "colab": {}
      },
      "source": [
        "#!apt-get install -y -qq glpk-utils"
      ],
      "execution_count": 41,
      "outputs": []
    },
    {
      "cell_type": "code",
      "metadata": {
        "id": "equVqJPv-Qej",
        "colab_type": "code",
        "colab": {}
      },
      "source": [
        "from pyomo.opt import SolverFactory\n",
        "opt = SolverFactory('glpk', executable='/usr/bin/glpsol')"
      ],
      "execution_count": 49,
      "outputs": []
    },
    {
      "cell_type": "code",
      "metadata": {
        "id": "bIgYMw8UtmJR",
        "colab_type": "code",
        "colab": {}
      },
      "source": [
        "import pypsa\n",
        "import numpy as np"
      ],
      "execution_count": 83,
      "outputs": []
    },
    {
      "cell_type": "code",
      "metadata": {
        "id": "KRGrLdHQtwEk",
        "colab_type": "code",
        "colab": {}
      },
      "source": [
        "network = pypsa.Network()\n",
        "#add three buses\n",
        "for i in range(3):\n",
        "    network.add(\"Bus\",\" bus {}\".format(i),v_nom  = 20.)"
      ],
      "execution_count": 70,
      "outputs": []
    },
    {
      "cell_type": "code",
      "metadata": {
        "id": "AY8eR0lh1-9z",
        "colab_type": "code",
        "colab": {
          "base_uri": "https://localhost:8080/",
          "height": 142
        },
        "outputId": "00db9391-6550-48b7-ced4-f20dd804d535"
      },
      "source": [
        "print(network.buses)"
      ],
      "execution_count": 71,
      "outputs": [
        {
          "output_type": "stream",
          "text": [
            "attribute  v_nom type    x    y  ... v_mag_pu_min  v_mag_pu_max  control  sub_network\n",
            " bus 0      20.0       0.0  0.0  ...          0.0           inf       PQ             \n",
            " bus 1      20.0       0.0  0.0  ...          0.0           inf       PQ             \n",
            " bus 2      20.0       0.0  0.0  ...          0.0           inf       PQ             \n",
            "\n",
            "[3 rows x 10 columns]\n"
          ],
          "name": "stdout"
        }
      ]
    },
    {
      "cell_type": "code",
      "metadata": {
        "id": "KLXy-at-2BfA",
        "colab_type": "code",
        "colab": {}
      },
      "source": [
        "#add three lines in a ring\n",
        "for i in range(3):\n",
        "    network.add(\"Line\",\" line {}\".format(i),\n",
        "                bus0=\" bus {}\".format(i),\n",
        "                bus1=\" bus {}\".format((i+1)%3),\n",
        "                x=0.1,\n",
        "                r=0.01)"
      ],
      "execution_count": 72,
      "outputs": []
    },
    {
      "cell_type": "code",
      "metadata": {
        "id": "F_JisixK6D4W",
        "colab_type": "code",
        "colab": {
          "base_uri": "https://localhost:8080/",
          "height": 122
        },
        "outputId": "71354187-fbd8-4db3-c01c-0c95c0ab0ec0"
      },
      "source": [
        "print(network.lines)"
      ],
      "execution_count": 73,
      "outputs": [
        {
          "output_type": "stream",
          "text": [
            "attribute    bus0    bus1 type    x  ...  b_pu  x_pu_eff  r_pu_eff  s_nom_opt\n",
            " line 0     bus 0   bus 1       0.1  ...   0.0       0.0       0.0        0.0\n",
            " line 1     bus 1   bus 2       0.1  ...   0.0       0.0       0.0        0.0\n",
            " line 2     bus 2   bus 0       0.1  ...   0.0       0.0       0.0        0.0\n",
            "\n",
            "[3 rows x 26 columns]\n"
          ],
          "name": "stdout"
        }
      ]
    },
    {
      "cell_type": "code",
      "metadata": {
        "id": "zOXYRxgx6FfZ",
        "colab_type": "code",
        "colab": {}
      },
      "source": [
        "#add a generator at bus 0\n",
        "network.add(\"Generator\",\" gen\",\n",
        "            bus=\" bus 0\",\n",
        "            p_set=100,\n",
        "            control=\"PQ\")"
      ],
      "execution_count": 74,
      "outputs": []
    },
    {
      "cell_type": "code",
      "metadata": {
        "id": "zpaC6hKK6U-p",
        "colab_type": "code",
        "colab": {
          "base_uri": "https://localhost:8080/",
          "height": 87
        },
        "outputId": "3b0cc8df-5026-4404-a8d3-729c4715c26e"
      },
      "source": [
        "print(network.generators)"
      ],
      "execution_count": 75,
      "outputs": [
        {
          "output_type": "stream",
          "text": [
            "attribute     bus control  ... ramp_limit_shut_down  p_nom_opt\n",
            " gen        bus 0      PQ  ...                  1.0        0.0\n",
            "\n",
            "[1 rows x 28 columns]\n"
          ],
          "name": "stdout"
        }
      ]
    },
    {
      "cell_type": "code",
      "metadata": {
        "id": "C21DykErFWTP",
        "colab_type": "code",
        "colab": {
          "base_uri": "https://localhost:8080/",
          "height": 52
        },
        "outputId": "b3926a42-eec9-4196-e1c8-720ca28cda69"
      },
      "source": [
        "print(network.generators.p_set)"
      ],
      "execution_count": 76,
      "outputs": [
        {
          "output_type": "stream",
          "text": [
            " gen    100.0\n",
            "Name: p_set, dtype: float64\n"
          ],
          "name": "stdout"
        }
      ]
    },
    {
      "cell_type": "code",
      "metadata": {
        "id": "OzAcPWBo8XXK",
        "colab_type": "code",
        "colab": {}
      },
      "source": [
        "#add a load at bus 1\n",
        "network.add(\"Load\",\" load\",\n",
        "            bus=\" bus 1\",\n",
        "            p_set=100)"
      ],
      "execution_count": 77,
      "outputs": []
    },
    {
      "cell_type": "code",
      "metadata": {
        "id": "TshAEEF48q2B",
        "colab_type": "code",
        "colab": {
          "base_uri": "https://localhost:8080/",
          "height": 52
        },
        "outputId": "acd066d7-a9fd-4c9c-dd5d-586d65ae9989"
      },
      "source": [
        "print(network.loads)"
      ],
      "execution_count": 78,
      "outputs": [
        {
          "output_type": "stream",
          "text": [
            "attribute     bus type  p_set  q_set  sign\n",
            " load       bus 1       100.0    0.0  -1.0\n"
          ],
          "name": "stdout"
        }
      ]
    },
    {
      "cell_type": "code",
      "metadata": {
        "id": "PJJyI55_8sdy",
        "colab_type": "code",
        "colab": {
          "base_uri": "https://localhost:8080/",
          "height": 52
        },
        "outputId": "39cc8d98-cf63-4bca-b9bb-5077c7757115"
      },
      "source": [
        "print(network.loads.p_set)\n",
        "network.loads.q_set = 100."
      ],
      "execution_count": 79,
      "outputs": [
        {
          "output_type": "stream",
          "text": [
            " load    100.0\n",
            "Name: p_set, dtype: float64\n"
          ],
          "name": "stdout"
        }
      ]
    },
    {
      "cell_type": "code",
      "metadata": {
        "id": "Qt8E0Z-b8y_O",
        "colab_type": "code",
        "colab": {
          "base_uri": "https://localhost:8080/",
          "height": 142
        },
        "outputId": "a8d739bb-8c93-4f55-a7ec-b50b77fb8227"
      },
      "source": [
        "#Do a Newton-Raphson power flow\n",
        "network.pf()"
      ],
      "execution_count": 80,
      "outputs": [
        {
          "output_type": "stream",
          "text": [
            "INFO:pypsa.pf:Performing non-linear load-flow on AC sub-network SubNetwork 0 for snapshots Index(['now'], dtype='object')\n",
            "INFO:pypsa.pf:Newton-Raphson solved in 3 iterations with error of 0.000000 in 0.048747 seconds\n"
          ],
          "name": "stderr"
        },
        {
          "output_type": "execute_result",
          "data": {
            "text/plain": [
              "{'converged':         0\n",
              " now  True, 'error':                 0\n",
              " now  4.753531e-10, 'n_iter':      0\n",
              " now  3}"
            ]
          },
          "metadata": {
            "tags": []
          },
          "execution_count": 80
        }
      ]
    },
    {
      "cell_type": "code",
      "metadata": {
        "id": "ZGqWjizL9b7Z",
        "colab_type": "code",
        "colab": {
          "base_uri": "https://localhost:8080/",
          "height": 52
        },
        "outputId": "6190e1f0-13c1-46d4-df80-a7672c888f47"
      },
      "source": [
        "print(network.lines_t.p0)"
      ],
      "execution_count": 81,
      "outputs": [
        {
          "output_type": "stream",
          "text": [
            "        line 0     line 1     line 2\n",
            "now  66.897487 -33.333333 -33.391038\n"
          ],
          "name": "stdout"
        }
      ]
    },
    {
      "cell_type": "code",
      "metadata": {
        "id": "WNstDb9F9rj4",
        "colab_type": "code",
        "colab": {
          "base_uri": "https://localhost:8080/",
          "height": 52
        },
        "outputId": "a27fcd7a-9609-4301-dceb-95e595dda482"
      },
      "source": [
        "print(network.buses_t.v_ang*180/np.pi)"
      ],
      "execution_count": 84,
      "outputs": [
        {
          "output_type": "stream",
          "text": [
            "      bus 0     bus 1     bus 2\n",
            "now     0.0 -0.875939 -0.433813\n"
          ],
          "name": "stdout"
        }
      ]
    },
    {
      "cell_type": "code",
      "metadata": {
        "id": "Ocmia3WW-nCt",
        "colab_type": "code",
        "colab": {
          "base_uri": "https://localhost:8080/",
          "height": 52
        },
        "outputId": "eb5165df-2d7f-4e07-f805-0a22b7e7b080"
      },
      "source": [
        "print(network.buses_t.v_mag_pu)"
      ],
      "execution_count": 85,
      "outputs": [
        {
          "output_type": "stream",
          "text": [
            "      bus 0     bus 1    bus 2\n",
            "now     1.0  0.981199  0.99057\n"
          ],
          "name": "stdout"
        }
      ]
    },
    {
      "cell_type": "code",
      "metadata": {
        "id": "SDEboFrrGhlf",
        "colab_type": "code",
        "colab": {}
      },
      "source": [
        ""
      ],
      "execution_count": null,
      "outputs": []
    }
  ]
}